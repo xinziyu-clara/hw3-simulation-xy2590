{
 "cells": [
  {
   "cell_type": "code",
   "execution_count": 1,
   "id": "2c407a15",
   "metadata": {},
   "outputs": [],
   "source": [
    "import numpy as np\n",
    "import matplotlib.pyplot as plt"
   ]
  },
  {
   "cell_type": "code",
   "execution_count": 2,
   "id": "1c543913",
   "metadata": {},
   "outputs": [],
   "source": [
    "# Define the simulator class for M/M/1 and M/M/2 queues\n",
    "class MMQueueSimulator:\n",
    "    def __init__(self, arrival_rate, service_rate, servers, total_customers=10000):\n",
    "        \"\"\"\n",
    "        Initialize the queue simulator with given parameters.\n",
    "\n",
    "        :param arrival_rate: Arrival rate (λ)\n",
    "        :param service_rate: Service rate (µ)\n",
    "        :param servers: Number of servers (k)\n",
    "        :param total_customers: Total number of customers to simulate\n",
    "        \"\"\"\n",
    "        self.arrival_rate = arrival_rate\n",
    "        self.service_rate = service_rate\n",
    "        self.servers = servers\n",
    "        self.total_customers = total_customers\n",
    "\n",
    "    def run_simulation(self):\n",
    "        \"\"\"\n",
    "        Run the queue simulation and return key performance metrics.\n",
    "\n",
    "        :return: Dictionary containing average queue length, response time, utilization, and queue lengths.\n",
    "        \"\"\"\n",
    "        # Generate exponential interarrival and service times\n",
    "        np.random.seed(42)  # Fix random seed for reproducibility\n",
    "        interarrival_times = np.random.exponential(1 / self.arrival_rate, self.total_customers)\n",
    "        service_times = np.random.exponential(1 / self.service_rate, self.total_customers)\n",
    "\n",
    "        # Compute arrival times as cumulative sum of interarrival times\n",
    "        arrival_times = np.cumsum(interarrival_times)\n",
    "\n",
    "        # Track departure times for each server and other metrics\n",
    "        departure_times = [0] * self.servers  # Server availability times\n",
    "        queue_length = 0  # Current queue length\n",
    "        queue_lengths = []  # Record of queue lengths over time\n",
    "        response_times = []  # Record of response times for each customer\n",
    "\n",
    "        # Simulate each customer\n",
    "        for i in range(self.total_customers):\n",
    "            arrival = arrival_times[i]  # Arrival time of the current customer\n",
    "            service = service_times[i]  # Service time of the current customer\n",
    "\n",
    "            # Find the earliest available server\n",
    "            next_free_server = np.argmin(departure_times)\n",
    "            next_free_time = departure_times[next_free_server]\n",
    "\n",
    "            if arrival < next_free_time:\n",
    "                # If all servers are busy, the customer must wait\n",
    "                queue_length += 1\n",
    "                start_service_time = next_free_time\n",
    "            else:\n",
    "                # If a server is free, the customer is served immediately\n",
    "                start_service_time = arrival\n",
    "\n",
    "            # Calculate departure time and update server's availability\n",
    "            departure_time = start_service_time + service\n",
    "            departure_times[next_free_server] = departure_time\n",
    "\n",
    "            # Record response time and queue length\n",
    "            response_time = departure_time - arrival\n",
    "            queue_lengths.append(queue_length)\n",
    "            response_times.append(response_time)\n",
    "\n",
    "            # Reduce queue length as service is completed\n",
    "            if arrival < next_free_time:\n",
    "                queue_length -= 1\n",
    "\n",
    "        # Calculate metrics\n",
    "        return {\n",
    "            \"average_queue_length\": np.mean(queue_lengths),  # Average number in the queue\n",
    "            \"average_response_time\": np.mean(response_times),  # Average total time in the system\n",
    "            \"server_utilization\": self.arrival_rate / (self.servers * self.service_rate),  # Fraction of time servers are busy\n",
    "            \"queue_lengths\": queue_lengths,  # Queue lengths at different times\n",
    "        }"
   ]
  },
  {
   "cell_type": "code",
   "execution_count": 3,
   "id": "09c121e4",
   "metadata": {},
   "outputs": [],
   "source": [
    "def run_mm1_mm2_simulations():\n",
    "    \"\"\"\n",
    "    Run simulations for both M/M/1 and M/M/2 queues under different scenarios.\n",
    "\n",
    "    :return: List of simulation results for each scenario.\n",
    "    \"\"\"\n",
    "    results = []\n",
    "\n",
    "    # Define test scenarios\n",
    "    scenarios = [\n",
    "        {\"arrival_rate\": 0.5, \"service_rate\": 1.0, \"servers\": 1, \"name\": \"M/M/1 (ρ=0.5)\"},\n",
    "        {\"arrival_rate\": 0.7, \"service_rate\": 1.0, \"servers\": 1, \"name\": \"M/M/1 (ρ=0.7)\"},\n",
    "        {\"arrival_rate\": 0.9, \"service_rate\": 1.0, \"servers\": 1, \"name\": \"M/M/1 (ρ=0.9)\"},\n",
    "        {\"arrival_rate\": 1.8, \"service_rate\": 1.0, \"servers\": 2, \"name\": \"M/M/2 (ρ=0.9)\"},\n",
    "    ]\n",
    "\n",
    "    # Run simulation for each scenario\n",
    "    for scenario in scenarios:\n",
    "        simulator = MMQueueSimulator(\n",
    "            arrival_rate=scenario[\"arrival_rate\"],\n",
    "            service_rate=scenario[\"service_rate\"],\n",
    "            servers=scenario[\"servers\"],\n",
    "        )\n",
    "        result = simulator.run_simulation()\n",
    "        results.append({**scenario, **result})\n",
    "\n",
    "    return results\n"
   ]
  },
  {
   "cell_type": "code",
   "execution_count": 4,
   "id": "367ae5fb",
   "metadata": {},
   "outputs": [],
   "source": [
    "def plot_results(results):\n",
    "    \"\"\"\n",
    "    Generate plots for queue length distribution and theoretical vs. simulated comparisons.\n",
    "\n",
    "    :param results: List of simulation results.\n",
    "    \"\"\"\n",
    "    # Plot histogram of queue lengths\n",
    "    for result in results:\n",
    "        plt.hist(result[\"queue_lengths\"], bins=20, alpha=0.6, label=result[\"name\"])\n",
    "    plt.title(\"Queue Length Distribution\")\n",
    "    plt.xlabel(\"Queue Length\")\n",
    "    plt.ylabel(\"Frequency\")\n",
    "    plt.legend()\n",
    "    plt.show()\n",
    "\n",
    "    # Compare theoretical vs simulated queue lengths\n",
    "    for result in results:\n",
    "        plt.hist(\n",
    "            result[\"queue_lengths\"], bins=10, alpha=0.6, label=f\"Simulated ({result['name']})\", density=True\n",
    "        )\n",
    "    plt.title(\"Theoretical vs Simulated Queue Length Distribution\")\n",
    "    plt.xlabel(\"Queue Length\")\n",
    "    plt.ylabel(\"Probability\")\n",
    "    plt.legend()\n",
    "    plt.show()"
   ]
  },
  {
   "cell_type": "code",
   "execution_count": 5,
   "id": "5b0b7320",
   "metadata": {},
   "outputs": [
    {
     "name": "stdout",
     "output_type": "stream",
     "text": [
      "        Scenario  Average Queue Length  Average Response Time  \\\n",
      "0  M/M/1 (ρ=0.5)                0.5144               2.075065   \n",
      "1  M/M/1 (ρ=0.7)                0.7246               3.798191   \n",
      "2  M/M/1 (ρ=0.9)                0.9342              16.451813   \n",
      "3  M/M/2 (ρ=0.9)                0.9005               8.469080   \n",
      "\n",
      "   Server Utilization  \n",
      "0                 0.5  \n",
      "1                 0.7  \n",
      "2                 0.9  \n",
      "3                 0.9  \n"
     ]
    },
    {
     "data": {
      "image/png": "[encoded data removed]",
      "text/plain": [
       "<Figure size 432x288 with 1 Axes>"
      ]
     },
     "metadata": {
      "needs_background": "light"
     },
     "output_type": "display_data"
    },
    {
     "data": {
      "image/png": "[encoded data removed]",
      "text/plain": [
       "<Figure size 432x288 with 1 Axes>"
      ]
     },
     "metadata": {
      "needs_background": "light"
     },
     "output_type": "display_data"
    }
   ],
   "source": [
    "# Main execution\n",
    "if __name__ == \"__main__\":\n",
    "    # Run simulations\n",
    "    results = run_mm1_mm2_simulations()\n",
    "\n",
    "    # Display results in tabular format\n",
    "    import pandas as pd\n",
    "    results_df = pd.DataFrame(results)[\n",
    "        [\"name\", \"average_queue_length\", \"average_response_time\", \"server_utilization\"]\n",
    "    ]\n",
    "    results_df.columns = [\n",
    "        \"Scenario\",\n",
    "        \"Average Queue Length\",\n",
    "        \"Average Response Time\",\n",
    "        \"Server Utilization\",\n",
    "    ]\n",
    "    print(results_df)\n",
    "\n",
    "    # Plot results\n",
    "    plot_results(results)\n"
   ]
  },
  {
   "cell_type": "code",
   "execution_count": null,
   "id": "9552cc92",
   "metadata": {},
   "outputs": [],
   "source": []
  }
 ],
 "metadata": {
  "kernelspec": {
   "display_name": "Python 3 (ipykernel)",
   "language": "python",
   "name": "python3"
  },
  "language_info": {
   "codemirror_mode": {
    "name": "ipython",
    "version": 3
   },
   "file_extension": ".py",
   "mimetype": "text/x-python",
   "name": "python",
   "nbconvert_exporter": "python",
   "pygments_lexer": "ipython3",
   "version": "3.9.7"
  }
 },
 "nbformat": 4,
 "nbformat_minor": 5
}
